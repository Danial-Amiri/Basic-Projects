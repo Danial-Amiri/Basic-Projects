{
  "nbformat": 4,
  "nbformat_minor": 0,
  "metadata": {
    "colab": {
      "provenance": [],
      "authorship_tag": "ABX9TyNuVW4tPjTLWX7R2gdP6Gib",
      "include_colab_link": true
    },
    "kernelspec": {
      "name": "python3",
      "display_name": "Python 3"
    },
    "language_info": {
      "name": "python"
    }
  },
  "cells": [
    {
      "cell_type": "markdown",
      "metadata": {
        "id": "view-in-github",
        "colab_type": "text"
      },
      "source": [
        "<a href=\"https://colab.research.google.com/github/Danial-Amiri/Basic-Projects/blob/main/Rock_Paper_Scissors.ipynb\" target=\"_parent\"><img src=\"https://colab.research.google.com/assets/colab-badge.svg\" alt=\"Open In Colab\"/></a>"
      ]
    },
    {
      "cell_type": "code",
      "execution_count": null,
      "metadata": {
        "id": "U1SEtfkClSPB",
        "colab": {
          "base_uri": "https://localhost:8080/"
        },
        "outputId": "ba3da495-e0bc-48b1-b8fe-17c8403edc0f"
      },
      "outputs": [
        {
          "output_type": "stream",
          "name": "stdout",
          "text": [
            "Rock, Paper, Scissors\n",
            "What do you choose? Type 0 for Rock, 1 for Paper, 2 for Scissors.\n",
            "1\n",
            "Paper covers rock, You win\n",
            "Player score: 1\n",
            "Computer score: 0\n",
            "Rock, Paper, Scissors\n",
            "What do you choose? Type 0 for Rock, 1 for Paper, 2 for Scissors.\n",
            "1\n",
            "Paper covers rock, You lose\n",
            "Player score: 1\n",
            "Computer score: 1\n",
            "Rock, Paper, Scissors\n",
            "What do you choose? Type 0 for Rock, 1 for Paper, 2 for Scissors.\n",
            "1\n",
            "It's a tie\n",
            "Player score: 1\n",
            "Computer score: 1\n",
            "Rock, Paper, Scissors\n",
            "What do you choose? Type 0 for Rock, 1 for Paper, 2 for Scissors.\n",
            "1\n",
            "It's a tie\n",
            "Player score: 1\n",
            "Computer score: 1\n",
            "Rock, Paper, Scissors\n",
            "What do you choose? Type 0 for Rock, 1 for Paper, 2 for Scissors.\n",
            "1\n",
            "Paper covers rock, You win\n",
            "Player score: 2\n",
            "Computer score: 1\n",
            "Rock, Paper, Scissors\n",
            "What do you choose? Type 0 for Rock, 1 for Paper, 2 for Scissors.\n",
            "1\n",
            "Paper covers rock, You win\n",
            "Player score: 3\n",
            "Computer score: 1\n"
          ]
        }
      ],
      "source": [
        "#Rock_paper_scissors\n",
        "import random\n",
        "\n",
        "\n",
        "player_score = 0\n",
        "computer_score = 0\n",
        "\n",
        "\n",
        "\n",
        "while(player_score < 3 and computer_score < 3):\n",
        "  print(\"Rock, Paper, Scissors\")\n",
        "  player = input(\"What do you choose? Type 0 for Rock, 1 for Paper, 2 for Scissors.\\n\")\n",
        "  computer = random.randint(0,2)\n",
        "  if player == \"0\":\n",
        "    player = \"Rock\"\n",
        "  elif player == \"1\":\n",
        "    player = \"Paper\"\n",
        "  elif player == \"2\":\n",
        "    player = \"Scissors\"\n",
        "  else:\n",
        "    print(\"Invalid input\")\n",
        "  if computer == 0:\n",
        "    computer = \"Rock\"\n",
        "  elif computer == 1:\n",
        "    computer = \"Paper\"\n",
        "  elif computer == 2:\n",
        "    computer = \"Scissors\"\n",
        "  else:\n",
        "    print(\"Invalid input\")\n",
        "  if player == computer:\n",
        "    print(\"It's a tie\")\n",
        "\n",
        "  elif player == \"Rock\":\n",
        "    if computer == \"Paper\":\n",
        "      print(\"paper covers rock, you lose\")\n",
        "      computer_score += 1\n",
        "    elif computer == \"Scissors\":\n",
        "      print(\"rock crushes scissors, you win\")\n",
        "      player_score += 1\n",
        "\n",
        "  elif player == \"Paper\":\n",
        "    if computer == \"Scissors\":\n",
        "      print(\"Paper covers rock, You lose\")\n",
        "      computer_score += 1\n",
        "    else:\n",
        "      print(\"Paper covers rock, You win\")\n",
        "      player_score += 1\n",
        "  elif player == \"Scissors\":\n",
        "    if computer == \"Rock\":\n",
        "      print(\"Rock crushes scissors, You lose\")\n",
        "      computer_score += 1\n",
        "    else:\n",
        "      print(\"Scissors cuts paper, You win\")\n",
        "      player_score += 1\n",
        "  print(\"Player score:\", player_score)\n",
        "  print(\"Computer score:\", computer_score)\n",
        "\n",
        "if player_score == 3:\n",
        "  print(\"You won the game\")\n",
        "elif computer_score == 3:\n",
        "  print(\"You lost the game\")\n",
        "\n",
        "\n"
      ]
    }
  ]
}