{
  "nbformat": 4,
  "nbformat_minor": 0,
  "metadata": {
    "colab": {
      "provenance": [],
      "authorship_tag": "ABX9TyNlV7GE2xgAt+pHlERGDBJN",
      "include_colab_link": true
    },
    "kernelspec": {
      "name": "python3",
      "display_name": "Python 3"
    },
    "language_info": {
      "name": "python"
    }
  },
  "cells": [
    {
      "cell_type": "markdown",
      "metadata": {
        "id": "view-in-github",
        "colab_type": "text"
      },
      "source": [
        "<a href=\"https://colab.research.google.com/github/Danial-Amiri/Basic-Projects/blob/main/Quiz_Game.ipynb\" target=\"_parent\"><img src=\"https://colab.research.google.com/assets/colab-badge.svg\" alt=\"Open In Colab\"/></a>"
      ]
    },
    {
      "cell_type": "code",
      "execution_count": null,
      "metadata": {
        "colab": {
          "base_uri": "https://localhost:8080/"
        },
        "id": "v_bNXC7ItI2w",
        "outputId": "c554e25e-c837-48d2-82c5-f236818a2009"
      },
      "outputs": [
        {
          "output_type": "stream",
          "name": "stdout",
          "text": [
            "Welcome To my Computer Quiz!!!\n",
            "Do you want to play? yes\n",
            "Let's Play!!\n",
            "What does CPU stand for? central processing unit\n",
            "Correct!!\n",
            "What does GPU stand for? graphics processing unit\n",
            "Correct!!\n",
            "What does RAM stand for? random acces memory\n",
            "Incorrect!!\n",
            "What does PSU stand for? ..\n",
            "Incorrect!!\n",
            "You got 2 questions correct!\n",
            "You got 40.0%\n"
          ]
        }
      ],
      "source": [
        "print(\"Welcome To my Computer Quiz!!!\")  #printing the welcome message\n",
        "\n",
        "\n",
        "playing=input(\"Do you want to play? \")   #asking the user if they want to play or not\n",
        "if playing.lower() == 'yes':\n",
        "      print(\"Let's Play!!\")\n",
        "else:\n",
        "    quit()\n",
        "score=0  #initializing the score to 0\n",
        "answer=input(\"What does CPU stand for? \")  #asking the user what the answer is\n",
        "if answer.lower() == 'central processing unit':\n",
        "      print(\"Correct!!\")\n",
        "      score += 1      # Its like ===>  score = score + 1\n",
        "else:\n",
        "      print(\"Incorrect!!\")\n",
        "answer=input(\"What does GPU stand for? \")  #asking the user what the answer is\n",
        "if answer.lower() == 'graphics processing unit':\n",
        "      print(\"Correct!!\")\n",
        "      score += 1\n",
        "else:\n",
        "      print(\"Incorrect!!\")\n",
        "answer=input(\"What does RAM stand for? \")   #asking the user what the answer is\n",
        "if answer.lower() == 'random access memory':\n",
        "      print(\"Correct!!\")\n",
        "      score += 1\n",
        "else:\n",
        "      print(\"Incorrect!!\")\n",
        "answer=input(\"What does PSU stand for? \")  #asking the user what the answer is\n",
        "if answer.lower() == 'power supply':\n",
        "      print(\"Correct!!\")\n",
        "      score += 1\n",
        "else:\n",
        "      print(\"Incorrect!!\")\n",
        "\n",
        "print(\"You got \" + str(score) + \" questions correct!\")  #printing the user's score\n",
        "print(\"You got \" + str((score/5)*100) + \"%\")  #printing the user's percentage\n",
        "\n",
        "quit()\n"
      ]
    },
    {
      "cell_type": "code",
      "source": [],
      "metadata": {
        "id": "UsWHz2yyuxoK"
      },
      "execution_count": null,
      "outputs": []
    }
  ]
}