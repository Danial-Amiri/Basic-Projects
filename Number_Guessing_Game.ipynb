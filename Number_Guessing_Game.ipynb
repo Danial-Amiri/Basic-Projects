{
  "cells": [
    {
      "cell_type": "markdown",
      "metadata": {
        "id": "view-in-github",
        "colab_type": "text"
      },
      "source": [
        "<a href=\"https://colab.research.google.com/github/Danial-Amiri/Basic-Projects/blob/main/Number_Guessing_Game.ipynb\" target=\"_parent\"><img src=\"https://colab.research.google.com/assets/colab-badge.svg\" alt=\"Open In Colab\"/></a>"
      ]
    },
    {
      "cell_type": "code",
      "execution_count": null,
      "metadata": {
        "colab": {
          "base_uri": "https://localhost:8080/"
        },
        "id": "hXp91gZy22Ou",
        "outputId": "8e825f41-78e8-4dcb-c1ec-e4db66671599"
      },
      "outputs": [
        {
          "output_type": "stream",
          "name": "stdout",
          "text": [
            "Please Enter a number: 50\n",
            "Make a guess: 23\n",
            "Your guess is too low\n",
            "Make a guess: 37\n",
            "Your guess is too high\n",
            "Make a guess: 27\n",
            "Your guess is too low\n",
            "Make a guess: 31\n",
            "Your guess is too high\n",
            "Make a guess: 29\n",
            "Your guess is too low\n",
            "Make a guess: 30\n",
            "You got it!\n",
            "You got it in 6 guesses.\n"
          ]
        }
      ],
      "source": [
        "import random\n",
        "\n",
        "\n",
        "top_of_range=input(\"Please Enter a number: \") # Ask the user to enter a number\n",
        "\n",
        "while(True):\n",
        "  if top_of_range.isdigit() and int(top_of_range)>0:\n",
        "    top_of_range=int(top_of_range) # Convert the string to an integer\n",
        "    break\n",
        "  elif top_of_range.isdigit() and int(top_of_range)==0:\n",
        "    print(\"Please Enter a number greater than 0\")\n",
        "    top_of_range=input(\"Please Enter a number: \")\n",
        "  else:\n",
        "    print(\"Please Type a Number Next Time\") # If the user does not enter a number\n",
        "    top_of_range=input(\"Please Enter a number: \")\n",
        "\n",
        "random_number=random.randint(1,top_of_range) # Generate a random number between 1 and the user input\n",
        "\n",
        "guesses=0\n",
        "\n",
        "while True:\n",
        "  guesses+=1 # Increment the number of guesses\n",
        "  user_guess=input(\"Make a guess: \") # Ask the user to enter a guess\n",
        "  if user_guess.isdigit():\n",
        "    user_guess=int(user_guess) # Convert the string to an integer\n",
        "  else:\n",
        "    print(\"Please enter a number next time\") # If the user does not enter a number\n",
        "    continue\n",
        "  if user_guess==random_number: # If the user guesses the number\n",
        "    print(\"You got it!\")\n",
        "    break\n",
        "  if user_guess<random_number:\n",
        "    print(\"Your guess is too low\")\n",
        "  elif user_guess>random_number:\n",
        "    print(\"Your guess is too high\")\n",
        "  else:\n",
        "    break\n",
        "print(\"You got it in\", guesses, \"guesses.\")"
      ]
    },
    {
      "cell_type": "code",
      "execution_count": null,
      "metadata": {
        "id": "5BUIgVVRPB2z"
      },
      "outputs": [],
      "source": []
    },
    {
      "cell_type": "code",
      "execution_count": null,
      "metadata": {
        "id": "PnJaiwW4OV6z"
      },
      "outputs": [],
      "source": []
    }
  ],
  "metadata": {
    "colab": {
      "provenance": [],
      "authorship_tag": "ABX9TyMW/xbeXWJz64PTE3qJiKiZ",
      "include_colab_link": true
    },
    "kernelspec": {
      "display_name": "Python 3",
      "name": "python3"
    },
    "language_info": {
      "name": "python"
    }
  },
  "nbformat": 4,
  "nbformat_minor": 0
}